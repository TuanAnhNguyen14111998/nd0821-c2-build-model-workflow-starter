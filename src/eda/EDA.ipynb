{
 "cells": [
  {
   "cell_type": "markdown",
   "id": "95833ed8",
   "metadata": {},
   "source": [
    "# Exploratory Data Analysis for Predicting Short-term Rental Price in New York CIty\n"
   ]
  },
  {
   "cell_type": "markdown",
   "id": "76be278f",
   "metadata": {},
   "source": [
    "# 1. Problem"
   ]
  },
  {
   "cell_type": "markdown",
   "id": "4b975e6a",
   "metadata": {},
   "source": [
    "Assuming you are working for a property project company renting rooms and properties for short periods of time on various platforms. The user needs you to conduct some analysis to know various factor that influence the property price based on similar property.\n",
    "\n",
    "Before we dive into some compex modeling, we need to understand our data first. How we do that? we need to conduct exploratory data analysis (EDA). In this process we need to analyze certain component in our data: distribution of the data and the correlation between variable in our data.\n",
    "\n",
    "Another thing that EDA does is check data types, missing values, columns with high cardinality, etc. using statistics and data visualization."
   ]
  },
  {
   "cell_type": "markdown",
   "id": "ecd080dd",
   "metadata": {},
   "source": [
    "# 2. Import Library"
   ]
  },
  {
   "cell_type": "code",
   "execution_count": 3,
   "id": "f3c199c1",
   "metadata": {},
   "outputs": [],
   "source": [
    "import wandb\n",
    "import pandas as pd\n",
    "import pandas_profiling"
   ]
  },
  {
   "cell_type": "markdown",
   "id": "1a3f8ef4",
   "metadata": {},
   "source": [
    "# 3. Load data with wandb"
   ]
  },
  {
   "cell_type": "markdown",
   "id": "266768f7",
   "metadata": {},
   "source": [
    "The first step in our analysis is to import the data. Before doing that, we need to connect our project with weights and biases (wandb).\n",
    "\n",
    "The data read is retrieved from artifacts stored in the wandb repository."
   ]
  },
  {
   "cell_type": "code",
   "execution_count": 4,
   "id": "ae156160",
   "metadata": {
    "scrolled": false
   },
   "outputs": [
    {
     "data": {
      "text/html": [
       "Finishing last run (ID:1seykqpd) before initializing another..."
      ],
      "text/plain": [
       "<IPython.core.display.HTML object>"
      ]
     },
     "metadata": {},
     "output_type": "display_data"
    },
    {
     "data": {
      "text/html": [
       "<br/>Waiting for W&B process to finish, PID 29003<br/>Program ended successfully."
      ],
      "text/plain": [
       "<IPython.core.display.HTML object>"
      ]
     },
     "metadata": {},
     "output_type": "display_data"
    },
    {
     "data": {
      "application/vnd.jupyter.widget-view+json": {
       "model_id": "",
       "version_major": 2,
       "version_minor": 0
      },
      "text/plain": [
       "VBox(children=(Label(value=' 0.01MB of 0.01MB uploaded (0.01MB deduped)\\r'), FloatProgress(value=1.0, max=1.0)…"
      ]
     },
     "metadata": {},
     "output_type": "display_data"
    },
    {
     "data": {
      "text/html": [
       "Find user logs for this run at: <code>/Users/tuananh/tuananh/udacity_code/nd0821-c2-build-model-workflow-starter/src/eda/wandb/run-20220527_132619-1seykqpd/logs/debug.log</code>"
      ],
      "text/plain": [
       "<IPython.core.display.HTML object>"
      ]
     },
     "metadata": {},
     "output_type": "display_data"
    },
    {
     "data": {
      "text/html": [
       "Find internal logs for this run at: <code>/Users/tuananh/tuananh/udacity_code/nd0821-c2-build-model-workflow-starter/src/eda/wandb/run-20220527_132619-1seykqpd/logs/debug-internal.log</code>"
      ],
      "text/plain": [
       "<IPython.core.display.HTML object>"
      ]
     },
     "metadata": {},
     "output_type": "display_data"
    },
    {
     "data": {
      "text/html": [
       "Synced 5 W&B file(s), 0 media file(s), 2 artifact file(s) and 1 other file(s)"
      ],
      "text/plain": [
       "<IPython.core.display.HTML object>"
      ]
     },
     "metadata": {},
     "output_type": "display_data"
    },
    {
     "data": {
      "text/html": [
       "\n",
       "                    <br/>Synced <strong style=\"color:#cdcd00\">cool-fog-36</strong>: <a href=\"https://wandb.ai/cp10/nyc_airbnb/runs/1seykqpd\" target=\"_blank\">https://wandb.ai/cp10/nyc_airbnb/runs/1seykqpd</a><br/>\n",
       "                "
      ],
      "text/plain": [
       "<IPython.core.display.HTML object>"
      ]
     },
     "metadata": {},
     "output_type": "display_data"
    },
    {
     "data": {
      "text/html": [
       "...Successfully finished last run (ID:1seykqpd). Initializing new run:<br/><br/>"
      ],
      "text/plain": [
       "<IPython.core.display.HTML object>"
      ]
     },
     "metadata": {},
     "output_type": "display_data"
    },
    {
     "name": "stderr",
     "output_type": "stream",
     "text": [
      "\u001b[34m\u001b[1mwandb\u001b[0m: wandb version 0.12.17 is available!  To upgrade, please run:\n",
      "\u001b[34m\u001b[1mwandb\u001b[0m:  $ pip install wandb --upgrade\n"
     ]
    },
    {
     "data": {
      "text/html": [
       "\n",
       "                Tracking run with wandb version 0.10.21<br/>\n",
       "                Syncing run <strong style=\"color:#cdcd00\">dulcet-gorge-37</strong> to <a href=\"https://wandb.ai\" target=\"_blank\">Weights & Biases</a> <a href=\"https://docs.wandb.com/integrations/jupyter.html\" target=\"_blank\">(Documentation)</a>.<br/>\n",
       "                Project page: <a href=\"https://wandb.ai/cp10/nyc_airbnb\" target=\"_blank\">https://wandb.ai/cp10/nyc_airbnb</a><br/>\n",
       "                Run page: <a href=\"https://wandb.ai/cp10/nyc_airbnb/runs/3rydrc6w\" target=\"_blank\">https://wandb.ai/cp10/nyc_airbnb/runs/3rydrc6w</a><br/>\n",
       "                Run data is saved locally in <code>/Users/tuananh/tuananh/udacity_code/nd0821-c2-build-model-workflow-starter/src/eda/wandb/run-20220527_132726-3rydrc6w</code><br/><br/>\n",
       "            "
      ],
      "text/plain": [
       "<IPython.core.display.HTML object>"
      ]
     },
     "metadata": {},
     "output_type": "display_data"
    }
   ],
   "source": [
    "run = wandb.init(project=\"nyc_airbnb\", group=\"eda\", save_code=True)\n",
    "local_path = wandb.use_artifact(\"sample.csv:latest\").file()\n",
    "df = pd.read_csv(local_path)"
   ]
  },
  {
   "cell_type": "markdown",
   "id": "b2684b7d",
   "metadata": {},
   "source": [
    "# 4. EDA Using Pandas Profiling\n",
    "\n",
    "We will use pandas profiling to automate EDA. There are two steps to do this: create a report from the dataframe and display the report results using the to_widgets method"
   ]
  },
  {
   "cell_type": "code",
   "execution_count": 5,
   "id": "826887aa",
   "metadata": {
    "scrolled": true
   },
   "outputs": [
    {
     "data": {
      "application/vnd.jupyter.widget-view+json": {
       "model_id": "de098373e5fd4a2c9e9081fe57de3904",
       "version_major": 2,
       "version_minor": 0
      },
      "text/plain": [
       "Summarize dataset:   0%|          | 0/29 [00:00<?, ?it/s]"
      ]
     },
     "metadata": {},
     "output_type": "display_data"
    },
    {
     "data": {
      "application/vnd.jupyter.widget-view+json": {
       "model_id": "51555b7fdf344f5a98bad0a1aab9e337",
       "version_major": 2,
       "version_minor": 0
      },
      "text/plain": [
       "Generate report structure:   0%|          | 0/1 [00:00<?, ?it/s]"
      ]
     },
     "metadata": {},
     "output_type": "display_data"
    },
    {
     "data": {
      "application/vnd.jupyter.widget-view+json": {
       "model_id": "",
       "version_major": 2,
       "version_minor": 0
      },
      "text/plain": [
       "Render widgets:   0%|          | 0/1 [00:00<?, ?it/s]"
      ]
     },
     "metadata": {},
     "output_type": "display_data"
    },
    {
     "data": {
      "application/vnd.jupyter.widget-view+json": {
       "model_id": "af188c234fca43338b27b2ab2e4cbfe9",
       "version_major": 2,
       "version_minor": 0
      },
      "text/plain": [
       "VBox(children=(Tab(children=(Tab(children=(GridBox(children=(VBox(children=(GridspecLayout(children=(HTML(valu…"
      ]
     },
     "metadata": {},
     "output_type": "display_data"
    }
   ],
   "source": [
    "import pandas_profiling\n",
    "\n",
    "profile = pandas_profiling.ProfileReport(df)\n",
    "profile.to_widgets()"
   ]
  },
  {
   "cell_type": "markdown",
   "id": "7145ebee",
   "metadata": {},
   "source": [
    "Based on the resulting report, we will try to briefly dissect the data we have. The discussion will be divided into several parts:\n",
    "\n",
    "- Overview: as much as 2.6% of our data has missing values (last_review and reviews_per_months). Overall the value of each data row is unique (no duplicates).\n",
    "- Variables: There is some information that can be seen in the data, such as: the price and num_reviews columns have outliers that cause the data to have skewness. Other information that can be obtained is that the column name has a uniform distribution. This is common for columns that have unique or near-unique values in their distribution of values. Also, the last_review column has a string data type which should be date or pandas series.\n",
    "- Correlation: calculated_cost_listings_count, number_of_reviews, and reviews_per_monts have negative and weak spearmann correlation values. This indicates a high price on a property tends to have a low number of monthly reviews, total reviews and a low calculated cost listings count.\n",
    "\n",
    "Based on this, we need to carry out data cleaning processes such as: removing outliers and correcting data formats. To remove outliers in the price column, we will remove a number of values that are not within a certain range that we have set (based on the results of discussions with stakeholders). Missing values will be addressed at the data preprocessing stage."
   ]
  },
  {
   "cell_type": "code",
   "execution_count": 6,
   "id": "674972ed",
   "metadata": {},
   "outputs": [],
   "source": [
    "# Drop outliers\n",
    "min_price = 10\n",
    "max_price = 350\n",
    "idx = df['price'].between(min_price, max_price)\n",
    "df = df[idx].copy()\n",
    "# Convert last_review to datetime\n",
    "df['last_review'] = pd.to_datetime(df['last_review'])"
   ]
  },
  {
   "cell_type": "markdown",
   "id": "26e39fe6",
   "metadata": {},
   "source": [
    "Check the results again after processing"
   ]
  },
  {
   "cell_type": "code",
   "execution_count": 8,
   "id": "ca827d3b",
   "metadata": {},
   "outputs": [
    {
     "name": "stdout",
     "output_type": "stream",
     "text": [
      "<class 'pandas.core.frame.DataFrame'>\n",
      "Int64Index: 46428 entries, 0 to 48894\n",
      "Data columns (total 16 columns):\n",
      " #   Column                          Non-Null Count  Dtype         \n",
      "---  ------                          --------------  -----         \n",
      " 0   id                              46428 non-null  int64         \n",
      " 1   name                            46413 non-null  object        \n",
      " 2   host_id                         46428 non-null  int64         \n",
      " 3   host_name                       46407 non-null  object        \n",
      " 4   neighbourhood_group             46428 non-null  object        \n",
      " 5   neighbourhood                   46428 non-null  object        \n",
      " 6   latitude                        46428 non-null  float64       \n",
      " 7   longitude                       46428 non-null  float64       \n",
      " 8   room_type                       46428 non-null  object        \n",
      " 9   price                           46428 non-null  int64         \n",
      " 10  minimum_nights                  46428 non-null  int64         \n",
      " 11  number_of_reviews               46428 non-null  int64         \n",
      " 12  last_review                     37246 non-null  datetime64[ns]\n",
      " 13  reviews_per_month               37246 non-null  float64       \n",
      " 14  calculated_host_listings_count  46428 non-null  int64         \n",
      " 15  availability_365                46428 non-null  int64         \n",
      "dtypes: datetime64[ns](1), float64(3), int64(7), object(5)\n",
      "memory usage: 6.0+ MB\n"
     ]
    }
   ],
   "source": [
    "df.info()"
   ]
  },
  {
   "cell_type": "markdown",
   "id": "c55dac53",
   "metadata": {},
   "source": [
    "Based on the results obtained, the last_review column has been successfully converted to datetime format. The number of data rows is also reduced (from 20000 to 19001).\n",
    "\n",
    "End the EDA process and save this version on wandb."
   ]
  },
  {
   "cell_type": "code",
   "execution_count": 9,
   "id": "f6f8cae0",
   "metadata": {},
   "outputs": [
    {
     "data": {
      "text/html": [
       "<br/>Waiting for W&B process to finish, PID 29135<br/>Program ended successfully."
      ],
      "text/plain": [
       "<IPython.core.display.HTML object>"
      ]
     },
     "metadata": {},
     "output_type": "display_data"
    },
    {
     "data": {
      "application/vnd.jupyter.widget-view+json": {
       "model_id": "",
       "version_major": 2,
       "version_minor": 0
      },
      "text/plain": [
       "VBox(children=(Label(value=' 0.01MB of 0.01MB uploaded (0.00MB deduped)\\r'), FloatProgress(value=1.0, max=1.0)…"
      ]
     },
     "metadata": {},
     "output_type": "display_data"
    },
    {
     "data": {
      "text/html": [
       "Find user logs for this run at: <code>/Users/tuananh/tuananh/udacity_code/nd0821-c2-build-model-workflow-starter/src/eda/wandb/run-20220527_132726-3rydrc6w/logs/debug.log</code>"
      ],
      "text/plain": [
       "<IPython.core.display.HTML object>"
      ]
     },
     "metadata": {},
     "output_type": "display_data"
    },
    {
     "data": {
      "text/html": [
       "Find internal logs for this run at: <code>/Users/tuananh/tuananh/udacity_code/nd0821-c2-build-model-workflow-starter/src/eda/wandb/run-20220527_132726-3rydrc6w/logs/debug-internal.log</code>"
      ],
      "text/plain": [
       "<IPython.core.display.HTML object>"
      ]
     },
     "metadata": {},
     "output_type": "display_data"
    },
    {
     "data": {
      "text/html": [
       "Synced 6 W&B file(s), 0 media file(s), 0 artifact file(s) and 0 other file(s)"
      ],
      "text/plain": [
       "<IPython.core.display.HTML object>"
      ]
     },
     "metadata": {},
     "output_type": "display_data"
    },
    {
     "data": {
      "text/html": [
       "\n",
       "                    <br/>Synced <strong style=\"color:#cdcd00\">dulcet-gorge-37</strong>: <a href=\"https://wandb.ai/cp10/nyc_airbnb/runs/3rydrc6w\" target=\"_blank\">https://wandb.ai/cp10/nyc_airbnb/runs/3rydrc6w</a><br/>\n",
       "                "
      ],
      "text/plain": [
       "<IPython.core.display.HTML object>"
      ]
     },
     "metadata": {},
     "output_type": "display_data"
    }
   ],
   "source": [
    "run.finish()"
   ]
  },
  {
   "cell_type": "code",
   "execution_count": null,
   "id": "4fa68918",
   "metadata": {},
   "outputs": [],
   "source": []
  }
 ],
 "metadata": {
  "kernelspec": {
   "display_name": "Python 3 (ipykernel)",
   "language": "python",
   "name": "python3"
  },
  "language_info": {
   "codemirror_mode": {
    "name": "ipython",
    "version": 3
   },
   "file_extension": ".py",
   "mimetype": "text/x-python",
   "name": "python",
   "nbconvert_exporter": "python",
   "pygments_lexer": "ipython3",
   "version": "3.8.13"
  }
 },
 "nbformat": 4,
 "nbformat_minor": 5
}
